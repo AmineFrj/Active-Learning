{
 "cells": [
  {
   "cell_type": "code",
   "execution_count": 1,
   "metadata": {},
   "outputs": [],
   "source": [
    "from sklearn.datasets import fetch_20newsgroups\n",
    "\n",
    "from sklearn.feature_extraction.text import CountVectorizer\n",
    "from sklearn.feature_extraction.text import TfidfTransformer\n",
    "from sklearn.naive_bayes import MultinomialNB\n",
    "# from sklearn.linear_model import LogisticRegression\n",
    "import numpy as np"
   ]
  },
  {
   "cell_type": "code",
   "execution_count": 16,
   "metadata": {},
   "outputs": [],
   "source": [
    "categories = ['rec.motorcycles', 'rec.sport.baseball',\n",
    "                'comp.graphics', 'sci.space',\n",
    "                'talk.politics.mideast']\n",
    "remove = (\"headers\", \"footers\", \"quotes\")\n",
    "ng5_train = fetch_20newsgroups(subset='train', categories=categories, remove=remove)\n",
    "ng5_test = fetch_20newsgroups(subset='test', categories=categories, remove=remove)"
   ]
  },
  {
   "cell_type": "markdown",
   "metadata": {},
   "source": [
    "## Exploring Data"
   ]
  },
  {
   "cell_type": "code",
   "execution_count": 4,
   "metadata": {},
   "outputs": [
    {
     "name": "stdout",
     "output_type": "stream",
     "text": [
      "\n",
      "I'd be willing to make two wagers:\n",
      "1) Snow doesn't win ROY.\n",
      "2) Mattingly is out of baseball within five years.\n",
      "\n",
      "I'm skeptical of the first, because I don't think Snow is that good a\n",
      "player, and he is on a losing team.\n",
      "\n",
      "I'm skeptical of the second because of his back.  Mattingly is 32 this\n",
      "year, and how many players play until they are 40?  Not too many, and\n",
      "most of them didn't have chronic back problems when they were 32.\n",
      "\n",
      "Could be wrong on either or both, but I think that's the smart way to\n",
      "bet...\n"
     ]
    }
   ],
   "source": [
    "print(\"\\n\".join(ng5_train.data[0].split(\"\\n\")))"
   ]
  },
  {
   "cell_type": "code",
   "execution_count": 5,
   "metadata": {},
   "outputs": [
    {
     "name": "stdout",
     "output_type": "stream",
     "text": [
      "rec.sport.baseball\n"
     ]
    }
   ],
   "source": [
    "print(ng5_train.target_names[ng5_train.target[0]])"
   ]
  },
  {
   "cell_type": "markdown",
   "metadata": {},
   "source": [
    "## Third step : Select n samples from non labeled data U"
   ]
  },
  {
   "cell_type": "code",
   "execution_count": 6,
   "metadata": {},
   "outputs": [],
   "source": [
    "## Create a pipeline to make it simpler\n",
    "from sklearn.pipeline import Pipeline\n",
    "text_clf = Pipeline([\n",
    "     ('vect', CountVectorizer()),\n",
    "     ('tfidf', TfidfTransformer()),\n",
    "     ('clf', MultinomialNB()),\n",
    "])"
   ]
  },
  {
   "cell_type": "markdown",
   "metadata": {},
   "source": [
    "# Start the loop process"
   ]
  },
  {
   "cell_type": "code",
   "execution_count": 26,
   "metadata": {},
   "outputs": [],
   "source": [
    "from sklearn.utils import Bunch\n",
    "\n",
    "length = len(ng5_train.data)\n",
    "seed = Bunch(data=ng5_train.data[0:1500], target=ng5_train.target[0:1500])\n",
    "unlabeled = Bunch(data=ng5_train.data[1500:length-1], target=ng5_train.target[1500:length-1])"
   ]
  },
  {
   "cell_type": "code",
   "execution_count": 27,
   "metadata": {},
   "outputs": [],
   "source": [
    "# number of samples\n",
    "n = 100\n",
    "accuracy = []\n",
    "\n",
    "while unlabeled.data:\n",
    "     text_clf.fit(seed.data, seed.target)\n",
    "\n",
    "     # predicted classes and corresponding probabilities\n",
    "     predicted = text_clf.predict(unlabeled.data)\n",
    "     predicted_proba = text_clf.predict_proba(unlabeled.data)\n",
    "     accuracy.append(np.mean(predicted == unlabeled.target))\n",
    "\n",
    "     ## Least Confidence (aka. Uncertainty) Strategy\n",
    "     uncertainty = 1 - predicted_proba.max(axis=1)\n",
    "     #uncertainty.size\n",
    "\n",
    "     if len(unlabeled.data) > n : \n",
    "          # index of top n uncertainty score\n",
    "          ind = np.argpartition(uncertainty, -n)[-n:]\n",
    "          #uncertainty[ind]\n",
    "\n",
    "          seed.data = seed.data + [unlabeled.data[i] for i in ind]\n",
    "          seed.target = np.append(seed.target,unlabeled.target[ind])\n",
    "          unlabeled.data = [unlabeled.data[i] for i in range(len(unlabeled.data)) if i not in ind]\n",
    "          #unlabeled.target = [unlabeled.target[i] for i in range(len(unlabeled.target)) if i not in ind]\n",
    "          unlabeled.target = np.delete(unlabeled.target, ind)\n",
    "     else :\n",
    "          seed.data = seed.data + unlabeled.data\n",
    "          seed.target = np.append(seed.target, unlabeled.target)\n",
    "          text_clf.fit(seed.data, seed.target)\n",
    "          break"
   ]
  },
  {
   "cell_type": "code",
   "execution_count": 28,
   "metadata": {},
   "outputs": [
    {
     "data": {
      "text/plain": [
       "[0.8494773519163763,\n",
       " 0.899625468164794,\n",
       " 0.9392712550607287,\n",
       " 0.9709251101321585,\n",
       " 0.9835748792270531,\n",
       " 0.9946524064171123,\n",
       " 0.9976047904191617,\n",
       " 0.9972789115646259,\n",
       " 0.9984251968503937,\n",
       " 0.9981308411214953,\n",
       " 0.9977011494252873,\n",
       " 1.0,\n",
       " 1.0,\n",
       " 1.0,\n",
       " 1.0]"
      ]
     },
     "execution_count": 28,
     "metadata": {},
     "output_type": "execute_result"
    }
   ],
   "source": [
    "accuracy"
   ]
  },
  {
   "cell_type": "code",
   "execution_count": null,
   "metadata": {},
   "outputs": [],
   "source": []
  }
 ],
 "metadata": {
  "kernelspec": {
   "display_name": "Python 3",
   "language": "python",
   "name": "python3"
  },
  "language_info": {
   "codemirror_mode": {
    "name": "ipython",
    "version": 3
   },
   "file_extension": ".py",
   "mimetype": "text/x-python",
   "name": "python",
   "nbconvert_exporter": "python",
   "pygments_lexer": "ipython3",
   "version": "3.7.4"
  }
 },
 "nbformat": 4,
 "nbformat_minor": 2
}
